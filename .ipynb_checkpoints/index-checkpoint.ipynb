{
 "cells": [
  {
   "cell_type": "markdown",
   "metadata": {},
   "source": [
    "# Introduction to JOIN Statements Lab"
   ]
  },
  {
   "cell_type": "markdown",
   "metadata": {},
   "source": [
    "In this lab we will practice writing JOIN statements to write queries across two tables.  The tables will be related to one another via a \"has many\" and \"belongs to\" relationship."
   ]
  },
  {
   "cell_type": "markdown",
   "metadata": {},
   "source": [
    "## Objectives\n",
    "\n",
    "1. Become comfortable writing various SQL JOIN statements\n",
    "2. Select rows on both tables where certain values match using `INNER JOIN`\n",
    "3. Write `LEFT JOIN` statements to get all the rows from the left table and the matching rows from the right table"
   ]
  },
  {
   "cell_type": "markdown",
   "metadata": {},
   "source": [
    "## Superheroes and Super Squads\n",
    "\n",
    "Our database contains two tables: `superheroes` and `squads`.  We have seeded the database with several different superheroes and superhero teams.  Most superheroes \"belong to\" one of the super squads, which is evident given the `squad_id` column featured in the superheroes table.  The tables are featured below:\n",
    "\n",
    "\n",
    "`Squads:`\n",
    "\n",
    "id  |name\n",
    "----|--------\n",
    "1   |Avengers\n",
    "2   |Justice League\n",
    "3   |The Illuminati\n",
    "\n",
    "\n",
    "\n",
    "\n",
    "`Superheroes:`\n",
    "\n",
    "id  |name           |real_identity        |superpower                     |weakness          |squad_id\n",
    "----|---------------|---------------------|-------------------------------|------------------|---------\n",
    "1   |Batman         |Bruce Wayne          |works hard                     |mortal human      |2\n",
    "2   |Superman       |Clark Kent           |superstrength                  |kryptonite        |2\n",
    "3   |Thor           |Thor Odinson         |summons lightning              |ego               |1\n",
    "4   |Iron Man       |Tony Stark           |ultra smart                    |mortal human      |1\n",
    "5   |Wonder Woman   |Diana Prince         |superstrength                  |broken bracelets  |2\n",
    "6   |Captain America|Steve Rogers         |superstrength                  |mortal human      |1\n",
    "7   |Aquaman        |Arthur Curry         |breaths underwater             |needs water nearby|2\n",
    "8   |Black Panther  |T'Challa             |speed and agility              |mortal human      |1\n",
    "9   |Black Widow    |Natasha Romanoff     |expert martial artist          |mortal human      |1\n",
    "10  |Hulk           |Bruce Banner         |rage                           |rage              |1\n",
    "11  |Cyborg         |Victor Stone         |technorganic physiology        |hackers           |2\n",
    "12  |Megaman        |NULL                 |elemental-mechanical physiology|hackers           |NULL\n",
    "13  |StretcherFlex  |Jean-Claude Van Damme|enhanced flexibility           |mortal human      |NULL\n",
    "14  |Goku           |Kakarot              |superstrength                  |myopia            |NULL\n",
    "15  |Green Lantern  |Alan Scott           |magic ring                     |the color yellow  |2"
   ]
  },
  {
   "cell_type": "markdown",
   "metadata": {},
   "source": [
    "name        name          \n",
    "----------  --------------\n",
    "Batman      Justice League\n",
    "Superman    Justice League\n",
    "Thor        Avengers      \n",
    "Iron Man    Avengers      \n",
    "Wonder Wom  Justice League\n",
    "Captain Am  Avengers      \n",
    "Aquaman     Justice League\n",
    "Black Pant  Avengers      \n",
    "Black Wido  Avengers      \n",
    "Hulk        Avengers      \n",
    "Cyborg      Justice League\n",
    "Green Lant  Justice League\n",
    "\n",
    "\n",
    "Great!  We selected all the superheroes belonging to a team.  However, our formatting is messy.  Let’s rewrite this query to group all the above superheroes according to their team name.  Also, both columns are called `name`, so let’s set the `squads.name` to `team`.\n",
    "\n",
    "def reformatted_query():\n",
    "\n",
    "Cool!  But aren’t there some heroes belonging to no team?  Let’s write a query that returns the `name`s and `superpower`s of all the `superheroes` table regardless of their team affiliation.  Again, make sure to also include `squads.name` aliased as `team`.\n",
    "\n",
    "\n",
    "name        superpower                       team      \n",
    "----------  -------------------------------  ----------\n",
    "Megaman     elemental-mechanical physiology            \n",
    "StretcherF  enhanced flexibility                       \n",
    "Goku        superstrength                              \n",
    "Thor        summons lightning                Avengers  \n",
    "Iron Man    ultra smart                      Avengers  \n",
    "Captain Am  superstrength                    Avengers  \n",
    "Black Pant  speed and agility                Avengers  \n",
    "Black Wido  expert martial artist            Avengers  \n",
    "Hulk        rage                             Avengers  \n",
    "Batman      works hard                       Justice Le\n",
    "Superman    superstrength                    Justice Le\n",
    "Wonder Wom  superstrength                    Justice Le\n",
    "Aquaman     breaths underwater               Justice Le\n",
    "Cyborg      technorganic physiology          Justice Le\n",
    "Green Lant  magic ring                       Justice Le\n",
    "\n",
    "\n",
    "Notice that there is also one squad with NO members!  Write a `JOIN` statement that return the `name` of each squad and counts all of its members under the alias `num_of_members`.  (*Hint:* You will need to use a `GROUP BY clause` here.)\n",
    "\n",
    "name        num_of_members\n",
    "----------  --------------\n",
    "Avengers    6             \n",
    "Justice Le  6             \n",
    "The Illumi  0             \n"
   ]
  },
  {
   "cell_type": "code",
   "execution_count": null,
   "metadata": {},
   "outputs": [],
   "source": []
  }
 ],
 "metadata": {
  "kernelspec": {
   "display_name": "Python 3",
   "language": "python",
   "name": "python3"
  },
  "language_info": {
   "codemirror_mode": {
    "name": "ipython",
    "version": 3
   },
   "file_extension": ".py",
   "mimetype": "text/x-python",
   "name": "python",
   "nbconvert_exporter": "python",
   "pygments_lexer": "ipython3",
   "version": "3.6.4"
  }
 },
 "nbformat": 4,
 "nbformat_minor": 2
}
